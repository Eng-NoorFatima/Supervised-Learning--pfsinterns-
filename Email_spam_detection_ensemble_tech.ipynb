{
 "cells": [
  {
   "cell_type": "markdown",
   "id": "2cfcb1a6",
   "metadata": {},
   "source": [
    "# EMAIL SPAM DETECTION USING ENSEMBLE METHODS"
   ]
  },
  {
   "cell_type": "markdown",
   "id": "9b149561",
   "metadata": {},
   "source": [
    "\n",
    "Import pandas for data manipulation and analysis. We specifically use it to load and process our dataset."
   ]
  },
  {
   "cell_type": "code",
   "execution_count": 1,
   "id": "d073bea7",
   "metadata": {},
   "outputs": [
    {
     "data": {
      "text/html": [
       "<div>\n",
       "<style scoped>\n",
       "    .dataframe tbody tr th:only-of-type {\n",
       "        vertical-align: middle;\n",
       "    }\n",
       "\n",
       "    .dataframe tbody tr th {\n",
       "        vertical-align: top;\n",
       "    }\n",
       "\n",
       "    .dataframe thead th {\n",
       "        text-align: right;\n",
       "    }\n",
       "</style>\n",
       "<table border=\"1\" class=\"dataframe\">\n",
       "  <thead>\n",
       "    <tr style=\"text-align: right;\">\n",
       "      <th></th>\n",
       "      <th>v1</th>\n",
       "      <th>v2</th>\n",
       "      <th>Unnamed: 2</th>\n",
       "      <th>Unnamed: 3</th>\n",
       "      <th>Unnamed: 4</th>\n",
       "    </tr>\n",
       "  </thead>\n",
       "  <tbody>\n",
       "    <tr>\n",
       "      <th>0</th>\n",
       "      <td>ham</td>\n",
       "      <td>Go until jurong point, crazy.. Available only ...</td>\n",
       "      <td>NaN</td>\n",
       "      <td>NaN</td>\n",
       "      <td>NaN</td>\n",
       "    </tr>\n",
       "    <tr>\n",
       "      <th>1</th>\n",
       "      <td>ham</td>\n",
       "      <td>Ok lar... Joking wif u oni...</td>\n",
       "      <td>NaN</td>\n",
       "      <td>NaN</td>\n",
       "      <td>NaN</td>\n",
       "    </tr>\n",
       "    <tr>\n",
       "      <th>2</th>\n",
       "      <td>spam</td>\n",
       "      <td>Free entry in 2 a wkly comp to win FA Cup fina...</td>\n",
       "      <td>NaN</td>\n",
       "      <td>NaN</td>\n",
       "      <td>NaN</td>\n",
       "    </tr>\n",
       "    <tr>\n",
       "      <th>3</th>\n",
       "      <td>ham</td>\n",
       "      <td>U dun say so early hor... U c already then say...</td>\n",
       "      <td>NaN</td>\n",
       "      <td>NaN</td>\n",
       "      <td>NaN</td>\n",
       "    </tr>\n",
       "    <tr>\n",
       "      <th>4</th>\n",
       "      <td>ham</td>\n",
       "      <td>Nah I don't think he goes to usf, he lives aro...</td>\n",
       "      <td>NaN</td>\n",
       "      <td>NaN</td>\n",
       "      <td>NaN</td>\n",
       "    </tr>\n",
       "  </tbody>\n",
       "</table>\n",
       "</div>"
      ],
      "text/plain": [
       "     v1                                                 v2 Unnamed: 2  \\\n",
       "0   ham  Go until jurong point, crazy.. Available only ...        NaN   \n",
       "1   ham                      Ok lar... Joking wif u oni...        NaN   \n",
       "2  spam  Free entry in 2 a wkly comp to win FA Cup fina...        NaN   \n",
       "3   ham  U dun say so early hor... U c already then say...        NaN   \n",
       "4   ham  Nah I don't think he goes to usf, he lives aro...        NaN   \n",
       "\n",
       "  Unnamed: 3 Unnamed: 4  \n",
       "0        NaN        NaN  \n",
       "1        NaN        NaN  \n",
       "2        NaN        NaN  \n",
       "3        NaN        NaN  \n",
       "4        NaN        NaN  "
      ]
     },
     "execution_count": 1,
     "metadata": {},
     "output_type": "execute_result"
    }
   ],
   "source": [
    "import pandas as pd\n",
    "\n",
    "# Load the dataset\n",
    "df = pd.read_csv('spam.csv', encoding='latin-1')\n",
    "df.head()"
   ]
  },
  {
   "cell_type": "code",
   "execution_count": 2,
   "id": "1a7ab6fe",
   "metadata": {},
   "outputs": [
    {
     "data": {
      "text/plain": [
       "(5572, 5)"
      ]
     },
     "execution_count": 2,
     "metadata": {},
     "output_type": "execute_result"
    }
   ],
   "source": [
    "df.shape"
   ]
  },
  {
   "cell_type": "markdown",
   "id": "ea7bc08d",
   "metadata": {},
   "source": [
    "# DATA PREPROCESSING"
   ]
  },
  {
   "cell_type": "code",
   "execution_count": 3,
   "id": "5b429c05",
   "metadata": {},
   "outputs": [
    {
     "data": {
      "text/html": [
       "<div>\n",
       "<style scoped>\n",
       "    .dataframe tbody tr th:only-of-type {\n",
       "        vertical-align: middle;\n",
       "    }\n",
       "\n",
       "    .dataframe tbody tr th {\n",
       "        vertical-align: top;\n",
       "    }\n",
       "\n",
       "    .dataframe thead th {\n",
       "        text-align: right;\n",
       "    }\n",
       "</style>\n",
       "<table border=\"1\" class=\"dataframe\">\n",
       "  <thead>\n",
       "    <tr style=\"text-align: right;\">\n",
       "      <th></th>\n",
       "      <th>Target</th>\n",
       "      <th>Mail-Text</th>\n",
       "    </tr>\n",
       "  </thead>\n",
       "  <tbody>\n",
       "    <tr>\n",
       "      <th>0</th>\n",
       "      <td>ham</td>\n",
       "      <td>Go until jurong point, crazy.. Available only ...</td>\n",
       "    </tr>\n",
       "    <tr>\n",
       "      <th>1</th>\n",
       "      <td>ham</td>\n",
       "      <td>Ok lar... Joking wif u oni...</td>\n",
       "    </tr>\n",
       "    <tr>\n",
       "      <th>2</th>\n",
       "      <td>spam</td>\n",
       "      <td>Free entry in 2 a wkly comp to win FA Cup fina...</td>\n",
       "    </tr>\n",
       "    <tr>\n",
       "      <th>3</th>\n",
       "      <td>ham</td>\n",
       "      <td>U dun say so early hor... U c already then say...</td>\n",
       "    </tr>\n",
       "    <tr>\n",
       "      <th>4</th>\n",
       "      <td>ham</td>\n",
       "      <td>Nah I don't think he goes to usf, he lives aro...</td>\n",
       "    </tr>\n",
       "  </tbody>\n",
       "</table>\n",
       "</div>"
      ],
      "text/plain": [
       "  Target                                          Mail-Text\n",
       "0    ham  Go until jurong point, crazy.. Available only ...\n",
       "1    ham                      Ok lar... Joking wif u oni...\n",
       "2   spam  Free entry in 2 a wkly comp to win FA Cup fina...\n",
       "3    ham  U dun say so early hor... U c already then say...\n",
       "4    ham  Nah I don't think he goes to usf, he lives aro..."
      ]
     },
     "execution_count": 3,
     "metadata": {},
     "output_type": "execute_result"
    }
   ],
   "source": [
    "# Data Cleaning\n",
    "df.drop(columns=['Unnamed: 2', 'Unnamed: 3', 'Unnamed: 4'], inplace=True)\n",
    "df.rename(columns={'v1': 'Target', 'v2': 'Mail-Text'}, inplace=True)\n",
    "\n",
    "# Handling missing values and duplicates\n",
    "df.dropna(inplace=True)\n",
    "df.drop_duplicates(subset='Mail-Text', keep='first', inplace=True)\n",
    "\n",
    "df.head()"
   ]
  },
  {
   "cell_type": "code",
   "execution_count": 4,
   "id": "c8e8ab75",
   "metadata": {},
   "outputs": [],
   "source": [
    "# Encoding the target variable\n",
    "from sklearn.preprocessing import LabelEncoder\n",
    "encoder = LabelEncoder()\n",
    "df['Target'] = encoder.fit_transform(df['Target'])"
   ]
  },
  {
   "cell_type": "code",
   "execution_count": 5,
   "id": "9fda0414",
   "metadata": {},
   "outputs": [],
   "source": [
    "import re\n",
    "from nltk.corpus import stopwords\n",
    "from nltk.stem import PorterStemmer\n",
    "\n",
    "# Initialize the stemmer and get English stop words\n",
    "stemmer = PorterStemmer()\n",
    "stop_words = set(stopwords.words('english'))\n",
    "\n",
    "def preprocess_text(text):\n",
    "    # Normalize to lowercase\n",
    "    text = text.lower()\n",
    "\n",
    "    # Remove URLs, numbers, and punctuation\n",
    "    text = re.sub(r'https?://\\S+|www\\.\\S+', '', text)  # Remove URLs\n",
    "    text = re.sub(r'\\d+', '', text)  # Remove numbers\n",
    "    text = re.sub(r'[^\\w\\s]', '', text)  # Remove punctuation\n",
    "\n",
    "    # Tokenization\n",
    "    words = text.split()\n",
    "\n",
    "    # Remove stop words and short words, and perform stemming\n",
    "    processed_words = [stemmer.stem(word) for word in words if word not in stop_words and len(word) > 2]\n",
    "\n",
    "    return ' '.join(processed_words)\n",
    "\n",
    "# Process the data\n",
    "df['processed_text'] = df['Mail-Text'].apply(preprocess_text)"
   ]
  },
  {
   "cell_type": "code",
   "execution_count": 6,
   "id": "dd05715e",
   "metadata": {},
   "outputs": [
    {
     "name": "stdout",
     "output_type": "stream",
     "text": [
      "Original Text:\n",
      "0       Go until jurong point, crazy.. Available only ...\n",
      "1                           Ok lar... Joking wif u oni...\n",
      "2       Free entry in 2 a wkly comp to win FA Cup fina...\n",
      "3       U dun say so early hor... U c already then say...\n",
      "4       Nah I don't think he goes to usf, he lives aro...\n",
      "                              ...                        \n",
      "5567    This is the 2nd time we have tried 2 contact u...\n",
      "5568                Will Ì_ b going to esplanade fr home?\n",
      "5569    Pity, * was in mood for that. So...any other s...\n",
      "5570    The guy did some bitching but I acted like i'd...\n",
      "5571                           Rofl. Its true to its name\n",
      "Name: Mail-Text, Length: 5169, dtype: object\n",
      "\n",
      "Processed Text:\n",
      "0       jurong point crazi avail bugi great world buff...\n",
      "1                                        lar joke wif oni\n",
      "2       free entri wkli comp win cup final tkt may tex...\n",
      "3                           dun say earli hor alreadi say\n",
      "4               nah dont think goe usf live around though\n",
      "                              ...                        \n",
      "5567    time tri contact pound prize claim easi call p...\n",
      "5568                                     go esplanad home\n",
      "5569                              piti mood soani suggest\n",
      "5570    guy bitch act like interest buy someth els nex...\n",
      "5571                                       rofl true name\n",
      "Name: processed_text, Length: 5169, dtype: object\n"
     ]
    }
   ],
   "source": [
    "# Display results\n",
    "print(\"Original Text:\")\n",
    "print(df['Mail-Text'])\n",
    "\n",
    "print(\"\\nProcessed Text:\")\n",
    "print(df['processed_text'])"
   ]
  },
  {
   "cell_type": "code",
   "execution_count": 7,
   "id": "4628f471",
   "metadata": {},
   "outputs": [
    {
     "name": "stdout",
     "output_type": "stream",
     "text": [
      "Checking for NaN values in the target variable:\n",
      "0\n"
     ]
    }
   ],
   "source": [
    "print(\"Checking for NaN values in the target variable:\")\n",
    "print(df['Target'].isnull().sum())  # This will tell you how many NaNs are present\n"
   ]
  },
  {
   "cell_type": "code",
   "execution_count": 8,
   "id": "5c5794f9",
   "metadata": {},
   "outputs": [
    {
     "data": {
      "text/plain": [
       "(5169, 3)"
      ]
     },
     "execution_count": 8,
     "metadata": {},
     "output_type": "execute_result"
    }
   ],
   "source": [
    "df.shape"
   ]
  },
  {
   "cell_type": "code",
   "execution_count": 9,
   "id": "6b3446e6",
   "metadata": {},
   "outputs": [
    {
     "data": {
      "text/plain": [
       "Target\n",
       "0    4516\n",
       "1     653\n",
       "Name: count, dtype: int64"
      ]
     },
     "execution_count": 9,
     "metadata": {},
     "output_type": "execute_result"
    }
   ],
   "source": [
    "df['Target'].value_counts()"
   ]
  },
  {
   "cell_type": "markdown",
   "id": "ac2b593c",
   "metadata": {},
   "source": [
    "# DATA VISUALIZATION"
   ]
  },
  {
   "cell_type": "code",
   "execution_count": 10,
   "id": "b59d31c5",
   "metadata": {},
   "outputs": [],
   "source": [
    "#show a pie chart"
   ]
  },
  {
   "cell_type": "code",
   "execution_count": 11,
   "id": "4c5526a3",
   "metadata": {},
   "outputs": [
    {
     "data": {
      "image/png": "[encoded data removed]",
      "text/plain": [
       "<Figure size 900x500 with 1 Axes>"
      ]
     },
     "metadata": {},
     "output_type": "display_data"
    }
   ],
   "source": [
    "import matplotlib.pyplot as plt\n",
    "import seaborn as sns\n",
    "\n",
    "# Sample data: update these values based on your dataset outcomes\n",
    "values = [4516, 653]  # Values for 'ham' and 'spam'\n",
    "\n",
    "# Set Seaborn style\n",
    "sns.set(style='whitegrid')\n",
    "\n",
    "# Define colors from Seaborn palette\n",
    "colors = sns.color_palette('pastel')[0:2]  # Choosing pastel colors for a softer look\n",
    "\n",
    "# Define the explode parameter to create a gap between slices\n",
    "explode = (0.1, 0)  # Explode the first slice (ham) slightly for a highlight effect\n",
    "\n",
    "# Create a figure\n",
    "plt.figure(figsize=(9, 5))\n",
    "\n",
    "# Create the pie chart with custom properties\n",
    "wedges, texts, autotexts = plt.pie(\n",
    "    values,\n",
    "    labels=['Ham ({}%)'.format(100 * values[0] / sum(values)), 'Spam ({}%)'.format(100 * values[1] / sum(values))],\n",
    "    autopct='',\n",
    "    startangle=90,\n",
    "    colors=colors,\n",
    "    wedgeprops={'linewidth': 1.5, 'edgecolor': 'white'},\n",
    "    explode=explode,\n",
    ")\n",
    "\n",
    "# Customize text properties\n",
    "for text in texts:\n",
    "    text.set(size=15, weight='bold', color='black')  # More prominent text\n",
    "\n",
    "# Add a title with more styling\n",
    "plt.title('Email Classification Distribution', fontsize=20, fontweight='bold', color='darkblue')\n",
    "\n",
    "# Add central annotations for better clarity\n",
    "plt.text(0, 0, 'Total Emails\\n{}'.format(sum(values)), horizontalalignment='center', \n",
    "         verticalalignment='center', fontsize=13, weight='bold', color='gray')\n",
    "\n",
    "# Equal aspect ratio ensures that pie is drawn as a circle\n",
    "plt.axis('equal')\n",
    "\n",
    "# Show the pie chart\n",
    "plt.show()"
   ]
  },
  {
   "cell_type": "markdown",
   "id": "406b8855",
   "metadata": {},
   "source": [
    "\n",
    "\n",
    "# FEATURE EXTRACTION"
   ]
  },
  {
   "cell_type": "markdown",
   "id": "fbaa6ec7",
   "metadata": {},
   "source": [
    "\n",
    "Import TfidfVectorizer for converting text data into numerical format. TF-IDF stands for Term Frequency-Inverse Document Frequency, which helps measure the importance of a word in a document relative to a dataset.\n"
   ]
  },
  {
   "cell_type": "code",
   "execution_count": 12,
   "id": "dfc9cb80",
   "metadata": {},
   "outputs": [
    {
     "name": "stdout",
     "output_type": "stream",
     "text": [
      "\n",
      "TF-IDF Feature Matrix:\n",
      "[[0. 0. 0. ... 0. 0. 0.]\n",
      " [0. 0. 0. ... 0. 0. 0.]\n",
      " [0. 0. 0. ... 0. 0. 0.]\n",
      " ...\n",
      " [0. 0. 0. ... 0. 0. 0.]\n",
      " [0. 0. 0. ... 0. 0. 0.]\n",
      " [0. 0. 0. ... 0. 0. 0.]]\n"
     ]
    }
   ],
   "source": [
    "from sklearn.feature_extraction.text import TfidfVectorizer\n",
    "# Feature Extraction using TF-IDF\n",
    "vectorizer = TfidfVectorizer()\n",
    "X = vectorizer.fit_transform(df['processed_text'])\n",
    "\n",
    "y = df[\"Target\"]\n",
    "\n",
    "print(\"\\nTF-IDF Feature Matrix:\")\n",
    "print(X.toarray())"
   ]
  },
  {
   "cell_type": "markdown",
   "id": "918ebbc6",
   "metadata": {},
   "source": [
    "# Split the Data"
   ]
  },
  {
   "cell_type": "markdown",
   "id": "b6a18d8c",
   "metadata": {},
   "source": [
    "Divide the dataset into training and testing subsets. A typical split might be 80% for training and 20% for testing. This allows you to evaluate model performance on unseen data."
   ]
  },
  {
   "cell_type": "code",
   "execution_count": 13,
   "id": "ea917022",
   "metadata": {},
   "outputs": [],
   "source": [
    "from sklearn.model_selection import train_test_split\n",
    "\n",
    "X_train, X_test, y_train, y_test = train_test_split(X, y, test_size=0.2, random_state=42)"
   ]
  },
  {
   "cell_type": "markdown",
   "id": "67b08a4d",
   "metadata": {},
   "source": [
    "# ENSEMBLE TECHNIQUES"
   ]
  },
  {
   "cell_type": "markdown",
   "id": "9d2912e1",
   "metadata": {},
   "source": [
    "# Bagging: Random Forest"
   ]
  },
  {
   "cell_type": "markdown",
   "id": "477e998e",
   "metadata": {},
   "source": [
    "RandomForestClassifier: Suitable for Bagging. It builds multiple decision trees and averages their results, which reduces overfitting and improves accuracy."
   ]
  },
  {
   "cell_type": "code",
   "execution_count": 14,
   "id": "5c019351",
   "metadata": {},
   "outputs": [
    {
     "name": "stdout",
     "output_type": "stream",
     "text": [
      "Accuracy: 0.9700193423597679\n"
     ]
    }
   ],
   "source": [
    "from sklearn.ensemble import RandomForestClassifier\n",
    "from sklearn.metrics import accuracy_score, classification_report\n",
    "\n",
    "# Train a Random Forest model\n",
    "rf_model = RandomForestClassifier(n_estimators=100, random_state=42)\n",
    "rf_model.fit(X_train, y_train)\n",
    "\n",
    "# Make predictions\n",
    "rf_pred = rf_model.predict(X_test)\n",
    "\n",
    "# Evaluate the model\n",
    "accuracy = accuracy_score(y_test, rf_pred)\n",
    "print(f\"Accuracy: {accuracy}\")"
   ]
  },
  {
   "cell_type": "code",
   "execution_count": 15,
   "id": "ddc80387",
   "metadata": {},
   "outputs": [
    {
     "name": "stdout",
     "output_type": "stream",
     "text": [
      "              precision    recall  f1-score   support\n",
      "\n",
      "         ham       0.97      1.00      0.98       889\n",
      "        spam       0.99      0.79      0.88       145\n",
      "\n",
      "    accuracy                           0.97      1034\n",
      "   macro avg       0.98      0.90      0.93      1034\n",
      "weighted avg       0.97      0.97      0.97      1034\n",
      "\n"
     ]
    }
   ],
   "source": [
    "from sklearn.metrics import classification_report\n",
    "\n",
    "# Classification report\n",
    "print(classification_report(y_test, rf_pred, target_names=['ham', 'spam']))"
   ]
  },
  {
   "cell_type": "markdown",
   "id": "5922ba82",
   "metadata": {},
   "source": [
    "# Boosting: AdaBoost"
   ]
  },
  {
   "cell_type": "markdown",
   "id": "d3149a99",
   "metadata": {},
   "source": [
    "AdaBoostClassifier: A boosting technique that combines weak learners (like shallow trees) to form a strong classifier, focusing on mistakes made by previous models.\n",
    "\n",
    "Import DecisionTreeClassifier: This is a basic model used as the base for AdaBoost and a strong, interpretable model for classification.\n"
   ]
  },
  {
   "cell_type": "code",
   "execution_count": 16,
   "id": "63d70a79",
   "metadata": {},
   "outputs": [
    {
     "name": "stdout",
     "output_type": "stream",
     "text": [
      "AdaBoost Accuracy: 0.97\n"
     ]
    }
   ],
   "source": [
    "from sklearn.ensemble import AdaBoostClassifier\n",
    "from sklearn.tree import DecisionTreeClassifier\n",
    "\n",
    "# Boosting using AdaBoost\n",
    "base = DecisionTreeClassifier(max_depth=1)\n",
    "ada_model = AdaBoostClassifier(estimator=base, n_estimators=100, random_state=42)\n",
    "ada_model.fit(X_train, y_train)\n",
    "\n",
    "#make prediction\n",
    "ada_pred = ada_model.predict(X_test)\n",
    "\n",
    "#evaluate model\n",
    "ada_accuracy = accuracy_score(y_test, ada_pred)\n",
    "print(f'AdaBoost Accuracy: {ada_accuracy:.2f}')"
   ]
  },
  {
   "cell_type": "code",
   "execution_count": 17,
   "id": "5cd96c7b",
   "metadata": {},
   "outputs": [
    {
     "name": "stdout",
     "output_type": "stream",
     "text": [
      "              precision    recall  f1-score   support\n",
      "\n",
      "         ham       0.97      0.99      0.98       889\n",
      "        spam       0.95      0.81      0.88       145\n",
      "\n",
      "    accuracy                           0.97      1034\n",
      "   macro avg       0.96      0.90      0.93      1034\n",
      "weighted avg       0.97      0.97      0.97      1034\n",
      "\n"
     ]
    }
   ],
   "source": [
    "# Classification report\n",
    "print(classification_report(y_test, ada_pred, target_names=['ham', 'spam']))"
   ]
  },
  {
   "cell_type": "markdown",
   "id": "45d44c22",
   "metadata": {},
   "source": [
    "# Stacking"
   ]
  },
  {
   "cell_type": "markdown",
   "id": "8f9b57da",
   "metadata": {},
   "source": [
    "StackingClassifier: Combines predictions from multiple models (base learners) and uses another model as a meta-learner to improve accuracy.\n",
    "\n",
    "Import LogisticRegression: Used as the final estimator in Stacking, this model works well for binary classification tasks and can serve as a meta-learner by making a complex decision on combined predictions.\n",
    "\n",
    "Import SVC: Support Vector Classifier is included in stacking as a base model; it can create non-linear decision boundaries, which can be beneficial for complex datasets."
   ]
  },
  {
   "cell_type": "code",
   "execution_count": 18,
   "id": "47744a97",
   "metadata": {},
   "outputs": [
    {
     "name": "stdout",
     "output_type": "stream",
     "text": [
      "Stacking Accuracy: 0.98\n"
     ]
    }
   ],
   "source": [
    "from sklearn.ensemble import StackingClassifier\n",
    "from sklearn.linear_model import LogisticRegression\n",
    "from sklearn.svm import SVC\n",
    "\n",
    "# Base models\n",
    "base_models = [\n",
    "    ('rf', RandomForestClassifier(n_estimators=100, random_state=42)),\n",
    "    ('ada', AdaBoostClassifier(estimator=base, n_estimators=100, random_state=42)),\n",
    "    ('svc', SVC(probability=True, random_state=42))\n",
    "]\n",
    "\n",
    "# Meta-learner\n",
    "stacking_model = StackingClassifier(estimators=base_models, final_estimator=LogisticRegression(), cv=5)\n",
    "stacking_model.fit(X_train, y_train)\n",
    "\n",
    "#make prediction\n",
    "stacking_predict = stacking_model.predict(X_test)\n",
    "\n",
    "stacking_accuracy = accuracy_score(y_test, stacking_predict)\n",
    "print(f'Stacking Accuracy: {stacking_accuracy:.2f}')\n"
   ]
  },
  {
   "cell_type": "code",
   "execution_count": 19,
   "id": "ccfe4e1b",
   "metadata": {},
   "outputs": [
    {
     "name": "stdout",
     "output_type": "stream",
     "text": [
      "              precision    recall  f1-score   support\n",
      "\n",
      "         ham       0.98      1.00      0.99       889\n",
      "        spam       0.98      0.87      0.92       145\n",
      "\n",
      "    accuracy                           0.98      1034\n",
      "   macro avg       0.98      0.93      0.96      1034\n",
      "weighted avg       0.98      0.98      0.98      1034\n",
      "\n"
     ]
    }
   ],
   "source": [
    "# Classification report\n",
    "print(classification_report(y_test, stacking_predict, target_names=['ham', 'spam']))"
   ]
  },
  {
   "cell_type": "markdown",
   "id": "490152e2",
   "metadata": {},
   "source": [
    "A stacking model performs higher precision or recall compared to individual models suggests it is better at minimizing errors in specific classes. "
   ]
  },
  {
   "cell_type": "code",
   "execution_count": 20,
   "id": "2bb29f25",
   "metadata": {},
   "outputs": [
    {
     "name": "stdout",
     "output_type": "stream",
     "text": [
      "The message is classified as: ham\n"
     ]
    }
   ],
   "source": [
    "def predict_spam(message):\n",
    "    # Preprocess the input message using the same vectorizer used during training\n",
    "    mesg = vectorizer.transform([message])\n",
    "    # Use the trained model to make a prediction\n",
    "    prediction = stacking_model.predict(mesg)\n",
    "    # Return 'spam' or 'ham' based on prediction output\n",
    "    return 'spam' if prediction[0] == 1 else 'ham'\n",
    "\n",
    "# Example usage\n",
    "new_message = \"Congratulations! You've won a $1000 gift card!\"\n",
    "result = predict_spam(new_message)\n",
    "print(f'The message is classified as: {result}')\n"
   ]
  },
  {
   "cell_type": "markdown",
   "id": "a7bda125",
   "metadata": {},
   "source": [
    "# Predict Spam or Not Spam"
   ]
  },
  {
   "cell_type": "code",
   "execution_count": 21,
   "id": "1b3d8801",
   "metadata": {},
   "outputs": [
    {
     "data": {
      "text/plain": [
       "['vectorizer.joblib']"
      ]
     },
     "execution_count": 21,
     "metadata": {},
     "output_type": "execute_result"
    }
   ],
   "source": [
    "import joblib\n",
    "\n",
    "# Save model and vectorizer\n",
    "joblib.dump(stacking_model, 'spam_classifier_model.joblib')\n",
    "joblib.dump(vectorizer, 'vectorizer.joblib')"
   ]
  },
  {
   "cell_type": "code",
   "execution_count": null,
   "id": "f9ea3b0e",
   "metadata": {},
   "outputs": [
    {
     "name": "stdout",
     "output_type": "stream",
     "text": [
      "Welcome to the Email Spam Detection System!\n",
      "Enter the email message (or type 'exit' to quit): Congratulations! You've won a $1000 gift card!\n",
      "The message is classified as: ham\n"
     ]
    }
   ],
   "source": [
    "\n",
    "def load_model():\n",
    "    model = joblib.load('spam_classifier_model.joblib')\n",
    "    vectorizer = joblib.load('vectorizer.joblib')\n",
    "    return model, vectorizer\n",
    "\n",
    "def predict_spam(model, vectorizer, message):\n",
    "    message_tfidf = vectorizer.transform([message])\n",
    "    prediction = model.predict(message_tfidf)\n",
    "    return 'spam' if prediction[0] == 1 else 'ham'\n",
    "\n",
    "def main():\n",
    "    print(\"Welcome to the Email Spam Detection System!\")\n",
    "    model, vectorizer = load_model()\n",
    "\n",
    "    while True:\n",
    "        user_input = input(\"Enter the email message (or type 'exit' to quit): \")\n",
    "\n",
    "        if user_input.lower() == 'exit':\n",
    "            break\n",
    "\n",
    "        result = predict_spam(model, vectorizer, user_input)\n",
    "        print(f'The message is classified as: {result}')\n",
    "\n",
    "if __name__ == '__main__':\n",
    "    main()"
   ]
  },
  {
   "cell_type": "code",
   "execution_count": null,
   "id": "a37a9756",
   "metadata": {},
   "outputs": [],
   "source": []
  }
 ],
 "metadata": {
  "kernelspec": {
   "display_name": "Python 3 (ipykernel)",
   "language": "python",
   "name": "python3"
  },
  "language_info": {
   "codemirror_mode": {
    "name": "ipython",
    "version": 3
   },
   "file_extension": ".py",
   "mimetype": "text/x-python",
   "name": "python",
   "nbconvert_exporter": "python",
   "pygments_lexer": "ipython3",
   "version": "3.11.5"
  }
 },
 "nbformat": 4,
 "nbformat_minor": 5
}
